{
 "cells": [
  {
   "cell_type": "markdown",
   "id": "539e9340",
   "metadata": {},
   "source": [
    "# For Loop Gauntlet\n",
    "\n",
    "The goal of this assignment is to make you a master of utilizing for loops.\n",
    "Complete all the for loop challenges on the paper. please read each challenge\n",
    "carefully and make sure that your for loops display exactly what is asked. If\n",
    "you finish them all, try the bonus challenge.\n",
    "\n",
    "## Single for-loops\n",
    "\n",
    "Write a for loop to do each the following\n"
   ]
  },
  {
   "cell_type": "markdown",
   "id": "d0b568dc",
   "metadata": {
    "lines_to_next_cell": 0
   },
   "source": [
    "Display all numbers from 0 to 100  "
   ]
  },
  {
   "cell_type": "code",
   "execution_count": 13,
   "id": "d0752dd4",
   "metadata": {
    "title": "[python]"
   },
   "outputs": [
    {
     "name": "stdout",
     "output_type": "stream",
     "text": [
      "0 1 2 3 4 5 6 7 8 9 10 11 12 13 14 15 16 17 18 19 20 21 22 23 24 25 26 27 28 29 30 31 32 33 34 35 36 37 38 39 40 41 42 43 44 45 46 47 48 49 50 51 52 53 54 55 56 57 58 59 60 61 62 63 64 65 66 67 68 69 70 71 72 73 74 75 76 77 78 79 80 81 82 83 84 85 86 87 88 89 90 91 92 93 94 95 96 97 98 99 100 "
     ]
    }
   ],
   "source": [
    "# Display all numbers from 0 to 100 \n",
    "for i in range(101):\n",
    "    print(i, end=' ')"
   ]
  },
  {
   "cell_type": "markdown",
   "id": "8b92e611",
   "metadata": {
    "lines_to_next_cell": 0
   },
   "source": [
    "Display all numbers from 100 to 0  "
   ]
  },
  {
   "cell_type": "code",
   "execution_count": 25,
   "id": "aec8cf23",
   "metadata": {
    "title": "[python]"
   },
   "outputs": [
    {
     "name": "stdout",
     "output_type": "stream",
     "text": [
      "[100, 99, 98, 97, 96, 95, 94, 93, 92, 91, 90, 89, 88, 87, 86, 85, 84, 83, 82, 81, 80, 79, 78, 77, 76, 75, 74, 73, 72, 71, 70, 69, 68, 67, 66, 65, 64, 63, 62, 61, 60, 59, 58, 57, 56, 55, 54, 53, 52, 51, 50, 49, 48, 47, 46, 45, 44, 43, 42, 41, 40, 39, 38, 37, 36, 35, 34, 33, 32, 31, 30, 29, 28, 27, 26, 25, 24, 23, 22, 21, 20, 19, 18, 17, 16, 15, 14, 13, 12, 11, 10, 9, 8, 7, 6, 5, 4, 3, 2, 1, 0]\n"
     ]
    }
   ],
   "source": [
    "# Display all numbers from 100 to 0 \n",
    "nums = list(range(101))\n",
    "print(nums[::-1])\n"
   ]
  },
  {
   "cell_type": "markdown",
   "id": "8942605e",
   "metadata": {
    "lines_to_next_cell": 0
   },
   "source": [
    "Display all even numbers from 2 to 100  "
   ]
  },
  {
   "cell_type": "code",
   "execution_count": 36,
   "id": "ed3d8616",
   "metadata": {
    "lines_to_next_cell": 0,
    "title": "[python]"
   },
   "outputs": [
    {
     "name": "stdout",
     "output_type": "stream",
     "text": [
      "2 4 6 8 10 12 14 16 18 20 22 24 26 28 30 32 34 36 38 40 42 44 46 48 50 52 54 56 58 60 62 64 66 68 70 72 74 76 78 80 82 84 86 88 90 92 94 96 98 100 "
     ]
    }
   ],
   "source": [
    "# Display all even numbers from 2 to 100  \n",
    "for i in range(2, 101, 2):\n",
    "    print(i, end=' ')\n"
   ]
  },
  {
   "cell_type": "markdown",
   "id": "c3501380",
   "metadata": {
    "lines_to_next_cell": 0
   },
   "source": [
    "Display all odd numbers from 1 to 99  "
   ]
  },
  {
   "cell_type": "code",
   "execution_count": 46,
   "id": "038f48bf",
   "metadata": {
    "lines_to_next_cell": 0,
    "title": "[python]"
   },
   "outputs": [
    {
     "name": "stdout",
     "output_type": "stream",
     "text": [
      "1 3 5 7 9 11 13 15 17 19 21 23 25 27 29 31 33 35 37 39 41 43 45 47 49 51 53 55 57 59 61 63 65 67 69 71 73 75 77 79 81 83 85 87 89 91 93 95 97 99 "
     ]
    }
   ],
   "source": [
    "# Display all odd numbers from 1 to 99  \n",
    "for i in range(1, 100, 2):\n",
    "    print(i, end=\" \")"
   ]
  },
  {
   "cell_type": "markdown",
   "id": "f750c8e2",
   "metadata": {
    "lines_to_next_cell": 0
   },
   "source": [
    "Display all numbers from 1 to 40. if the number is odd, print \"odd\" next to the number. if the number is even, print \"even\" next to the number.  \n",
    "eg:  \n",
    " 1 is odd  \n",
    " 2 is even  \n",
    " 3 is odd  \n",
    " 4 is even  \n",
    " 5 is odd...etc.  \n",
    "\n"
   ]
  },
  {
   "cell_type": "code",
   "execution_count": 65,
   "id": "07189adb",
   "metadata": {},
   "outputs": [
    {
     "name": "stdout",
     "output_type": "stream",
     "text": [
      "1 is odd\n",
      "2 is even\n",
      "3 is odd\n",
      "4 is even\n",
      "5 is odd\n",
      "6 is even\n",
      "7 is odd\n",
      "8 is even\n",
      "9 is odd\n",
      "10 is even\n",
      "11 is odd\n",
      "12 is even\n",
      "13 is odd\n",
      "14 is even\n",
      "15 is odd\n",
      "16 is even\n",
      "17 is odd\n",
      "18 is even\n",
      "19 is odd\n",
      "20 is even\n",
      "21 is odd\n",
      "22 is even\n",
      "23 is odd\n",
      "24 is even\n",
      "25 is odd\n",
      "26 is even\n",
      "27 is odd\n",
      "28 is even\n",
      "29 is odd\n",
      "30 is even\n",
      "31 is odd\n",
      "32 is even\n",
      "33 is odd\n",
      "34 is even\n",
      "35 is odd\n",
      "36 is even\n",
      "37 is odd\n",
      "38 is even\n",
      "39 is odd\n",
      "40 is even\n"
     ]
    }
   ],
   "source": [
    "for i in range(1,41):\n",
    "    if i % 2 == 0:\n",
    "        print(f\"{i} is even\")\n",
    "    else:\n",
    "        print(f\"{i} is odd\")"
   ]
  },
  {
   "cell_type": "code",
   "execution_count": 66,
   "id": "174bdcd9",
   "metadata": {},
   "outputs": [],
   "source": [
    "# Display all numbers from 1 to 500.\n"
   ]
  },
  {
   "cell_type": "markdown",
   "id": "969e00f1",
   "metadata": {},
   "source": [
    "Display all multiples of 7 from 0 to 70"
   ]
  },
  {
   "cell_type": "code",
   "execution_count": 67,
   "id": "620b3886",
   "metadata": {
    "lines_to_next_cell": 0,
    "title": "[python]"
   },
   "outputs": [],
   "source": [
    "# Display all multiples of 7 from 0 to 777"
   ]
  },
  {
   "cell_type": "markdown",
   "id": "b468e701",
   "metadata": {
    "lines_to_next_cell": 0
   },
   "source": [
    "Print all the years you were alive and how old you were in each. e.g. \"in 1979, i was 2 years old.\" (for a really old person)  "
   ]
  },
  {
   "cell_type": "code",
   "execution_count": 68,
   "id": "6db862fd",
   "metadata": {
    "lines_to_next_cell": 0,
    "title": "[python]"
   },
   "outputs": [],
   "source": [
    "# Your Code Here"
   ]
  },
  {
   "cell_type": "markdown",
   "id": "571b7e8d",
   "metadata": {
    "lines_to_next_cell": 0
   },
   "source": [
    "## Nested for-loops\n",
    "\n",
    "Write nested for loops (a for loop inside another for loop). Here is an example of nested loops. "
   ]
  },
  {
   "cell_type": "code",
   "execution_count": 69,
   "id": "beb062f6",
   "metadata": {
    "lines_to_next_cell": 0,
    "title": "[python]"
   },
   "outputs": [
    {
     "name": "stdout",
     "output_type": "stream",
     "text": [
      "(0,0) (0,1) (0,2) (0,3) (0,4) (0,5) (0,6) (0,7) \n",
      "(1,0) (1,1) (1,2) (1,3) (1,4) (1,5) (1,6) (1,7) \n",
      "(2,0) (2,1) (2,2) (2,3) (2,4) (2,5) (2,6) (2,7) \n",
      "(3,0) (3,1) (3,2) (3,3) (3,4) (3,5) (3,6) (3,7) \n",
      "(4,0) (4,1) (4,2) (4,3) (4,4) (4,5) (4,6) (4,7) \n",
      "(5,0) (5,1) (5,2) (5,3) (5,4) (5,5) (5,6) (5,7) \n",
      "(6,0) (6,1) (6,2) (6,3) (6,4) (6,5) (6,6) (6,7) \n",
      "(7,0) (7,1) (7,2) (7,3) (7,4) (7,5) (7,6) (7,7) \n"
     ]
    }
   ],
   "source": [
    "# Examples of Nested Loops\n",
    "\n",
    "for i in range(8):\n",
    "    for j in range(8):\n",
    "        print(f\"({i},{j})\", end= ' ')\n",
    "    print()"
   ]
  },
  {
   "cell_type": "markdown",
   "id": "3605a476",
   "metadata": {
    "lines_to_next_cell": 0
   },
   "source": [
    "For your first nested loop, display this output:  \n",
    "\n",
    "```\n",
    "0  0  \n",
    "0  1  \n",
    "0  2  \n",
    "1  0  \n",
    "1  1  \n",
    "1  2  \n",
    "2  0  \n",
    "2  1  \n",
    "2  2\n",
    "```"
   ]
  },
  {
   "cell_type": "code",
   "execution_count": 78,
   "id": "8c847ed3",
   "metadata": {
    "lines_to_next_cell": 0,
    "title": "[python]"
   },
   "outputs": [
    {
     "name": "stdout",
     "output_type": "stream",
     "text": [
      "0 \t 0\n",
      "0 \t 1\n",
      "0 \t 2\n",
      "1 \t 0\n",
      "1 \t 1\n",
      "1 \t 2\n",
      "2 \t 0\n",
      "2 \t 1\n",
      "2 \t 2\n"
     ]
    }
   ],
   "source": [
    "# Display the output shown above\n",
    "\n",
    "for i in range(3):\n",
    "    for j in range(3):\n",
    "        print(f'{i} \\t {j}' )\n"
   ]
  },
  {
   "cell_type": "markdown",
   "id": "c6a9c592",
   "metadata": {
    "lines_to_next_cell": 0
   },
   "source": [
    "Display the numbers 1 through 9 in a 3x3 square grid like this:  \n",
    "\n",
    "```\n",
    "1  2  3  \n",
    "4  5  6  \n",
    "7  8  9  \n",
    "```"
   ]
  },
  {
   "cell_type": "code",
   "execution_count": 79,
   "id": "bb0a4a5b",
   "metadata": {
    "lines_to_next_cell": 0,
    "title": "[python]"
   },
   "outputs": [],
   "source": [
    "# Display the numbers 1 through 9 in a 3x3 square grid"
   ]
  },
  {
   "cell_type": "markdown",
   "id": "3265fddb",
   "metadata": {
    "lines_to_next_cell": 0
   },
   "source": [
    "Display the numbers 1 through 100 in a 10x10 square grid.  "
   ]
  },
  {
   "cell_type": "code",
   "execution_count": 80,
   "id": "ced82638",
   "metadata": {
    "lines_to_next_cell": 0,
    "title": "[python]"
   },
   "outputs": [],
   "source": [
    "# Display the numbers 1 through 100 in a 10x10 square grid. "
   ]
  },
  {
   "cell_type": "markdown",
   "id": "9434b500",
   "metadata": {
    "lines_to_next_cell": 2
   },
   "source": [
    "Display the following output:  \n",
    "\n",
    "```\n",
    "*  \n",
    "*  *  \n",
    "*  *  *  \n",
    "*  *  *  *  \n",
    "*  *  *  *  *  \n",
    "*  *  *  *  *  *\n",
    "```  "
   ]
  },
  {
   "cell_type": "code",
   "execution_count": 81,
   "id": "3b81fd1e",
   "metadata": {},
   "outputs": [],
   "source": [
    "# Display the asterisk pattern shown above"
   ]
  },
  {
   "cell_type": "markdown",
   "id": "5a40192d",
   "metadata": {},
   "source": []
  }
 ],
 "metadata": {
  "jupytext": {
   "cell_metadata_filter": "title,-all",
   "main_language": "python",
   "notebook_metadata_filter": "-all"
  },
  "kernelspec": {
   "display_name": ".venv",
   "language": "python",
   "name": "python3"
  },
  "language_info": {
   "codemirror_mode": {
    "name": "ipython",
    "version": 3
   },
   "file_extension": ".py",
   "mimetype": "text/x-python",
   "name": "python",
   "nbconvert_exporter": "python",
   "pygments_lexer": "ipython3",
   "version": "3.12.4"
  }
 },
 "nbformat": 4,
 "nbformat_minor": 5
}
